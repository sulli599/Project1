{
 "cells": [
  {
   "cell_type": "markdown",
   "metadata": {},
   "source": [
    "# Short-Read Aligment\n",
    "\n",
    "## Introduction\n",
    "\n",
    "DNA is the informational molecule that contains instructions for making and regulating proteins and eventually traits expressed by cells. This information is stored in sequences of nucleotides referred to as bases or base pairs (bp). There are four possible bases: adenine (A), thymine (T), guanine (G), and cytosine (C). During sequencing, sample DNA is broken into many pieces called reads whose sequences are recorded in parallel. After that, a computer must put the pieces back in order by aligning matching sequences at the ends of the pieces with a reference genome. Programs that perform this function are called aligners. \n",
    "   \n",
    "It is not uncommon to have thousands and even millions of reads that need to be aligned, and genomes contain massive amounts of data. The human genome, for example, is over 3 billion base pairs. Managing memory and, ultimately speeding this process up, is the main challenges when developing alignment tools. \n",
    "\n",
    "The problem itself is embarassingly parallel as each read can be aligned independently. This process has three basic steps:\n",
    "1. Input read and genome information\n",
    "2. Align read to genome\n",
    "3. Output alignment\n",
    "\n",
    "Things get a little sticky in steps one and three, and we has to watch out for inefficiencies and race conditions, respectively. "
   ]
  },
  {
   "cell_type": "markdown",
   "metadata": {},
   "source": [
    "## Objectives\n",
    "\n",
    "I am a studying genetics and biochemistry and eventually I would like to go into bioinformatics, which is the use of computer science and math to organize and analyze biological data. As such, I chose a project in the domain of genomics and divided it into two parts. \n",
    "\n",
    "In part one, I looked at an existing alignment software called Bowtie2 and had two objectives:\n",
    "\n",
    "* Set up a working example\n",
    "* Identify strategies used to speed up alignment\n",
    "\n",
    "In part two, I wanted to get a better understanding of the parallelization methods learned in class, so I decide to write my own  with two objectives also:\n",
    "\n",
    "* Write a working program that could align short reads to a larger genome\n",
    "* Speed it up through parallelization"
   ]
  },
  {
   "cell_type": "markdown",
   "metadata": {},
   "source": [
    "## Part 1 - Bowtie\n",
    "\n",
    "Bowtie2 is a short read alignment tool that is used to align sequences to reference genomes often used in genomics research pipelines. It is a staple in many assembly and annotation workflows. Note that the program is bowtie2 even though the naming convention on the HPCC refers to it as bowtie. Though Bowtie is the older verision of Bowtie2, they are different with different uses, syntax, . Bowtie is for reads shorter than 50 base pairs and only supports ungapped mapping. Bowtie2 allows for gapping in its mapping and higher sensitivity to reads longer than 50bp compared to bowtie. It's not the end of the world if you use the wrong one, but it has the potential to give you funny results depending on what you're looking at.\n",
    "\n",
    "#### Objective 1 - Run an Example\n",
    "\n",
    "Bowtie2 is already installed on the HPCC. To load the example code, we will be using getexample from the powertools module.\n",
    "\n",
    "1. Load the powertools module by running the following line:\n",
    "module load powertools\n",
    "2. Download the bowtie2 example\n",
    "getexample bowtie\n",
    "3. Run the example\n",
    "qsub bowtie.qsub\n",
    "\n",
    "#### Objective 2 - Useful Strategies\n",
    "\n",
    "Bowtie2 runs in parallel and supports different options for parallelization. It has options for both multi-processing and multi-threading. Multi-threading is more advantageous as the large genome index and read data are not duplicated unecessarily. Bowtie2 also uses a queuing lock to organize threads waiting to access critical sections and data. Queuing locks work similarly to spin locks in that each thread will sleep as it waits, continuously probing until it knows it has access. However, each thread probes an entry on its own cache line, reducing the amount of messages passed between threads. To speed up writing, bowtie2 generates multiple output files that are concatenated together. It also uses index-aided alignment to to reduce the search space within the genome.\n",
    "\n",
    "However, these benefits are lessened with gapped alignments. Gapped alignments are necessitated by missing or extra bases in the sequence due to either sequencing errors or true insertion/deletion mutations in the sample that differ from the reference genome. Bowtie generally will not align reads spanning these gaps and thus data can be thrown out. Bowtie2 differs from Bowtie in that it uses two stages to allow for gapped alignment. It has an initial, ungapped seed-searching stage and a secondary gapped extension stage that utilizes parallel processing to fully align the whole read accounting for any gaps. \n"
   ]
  },
  {
   "cell_type": "markdown",
   "metadata": {},
   "source": [
    "## Part 2 - ClipOn\n",
    "\n",
    "I chose to use OpenMP in order to reduce copies of my reads and genome cluttering up precious memory as I learned in Part 1. I chose to write my program in C because I wanted to get more comfortable using it as it gives the programmer a lot more control than python. But, quite honestly, I picked between C and C++ arbitrarily, and, looking back, I should have wrote this in C++. In C, strings are not their own data type, rather they are an array of characters and are a lot easier to mess up as managing memory allocation is on you. In C++, strings are  their own objects in the standard library with their own memory management and control. Additionally, and this would have been the most helpful, they also come with built in functions for string manipulation. As a bulk of the operation is reading and managing strings, this would have saved a lot of time and headache.\n",
    "\n",
    "My priority was getting this running, so, in order to minimize my time fighting FASTA formatting and string manipulation, I made a dummy genome to get the program working. I took the first million digits of pi and converted them to A, T, C, or G depending on how many times each of them divided by three using floor division. I made the reads by going to five random spots in the genome and then collecting a random number of bases after that between 1 and 1000. \n",
    "\n",
    "Very generally, ClipOn works by reading in the reads, getting the first ten bases, and then finding where those ten bases are in the reference genome. The parallel and serial versions both do this slightly differently. As in Bowtie, ClipOn does not do paired-end sequencing; it makes its alignment only using the first ten bases of the read. For my dummy genome this is perfect for our 1 million bp genome. If each base has a random 1 in 4 chance of ocurring, then the odds of a ten-base sequence randomly occuring is $1/4^{10} $ or one in roughly a million. \n",
    "\n",
    "#### Part 1 - Serial\n",
    "\n",
    "To make a more fair comparison, I tried to write the most efficient serial program I could with my limited knowledge of C. I combined steps one and two of the basic workflow by reading in the reads and aligning them in the same step. The program reads in the read, gets the first ten bases, and then outputs the index of the starting position. This ended up being faster than the serialized version of Clipon-parallel by about a second for reasons I'll get into in a moment. I recorded the real time, timing the program a minimum of three times or until the standard deviation was less than 1% of the mean. I ran all timing studies on dev-intel14.\n",
    "\n",
    "<center><b>Serial Time</b></center>\n",
    "\n",
    "|Iteration|Time(s)|\n",
    "|---------|:------:|\n",
    "|1|47.557|\n",
    "|2|47.331|\n",
    "|3|47.416|\n",
    "|||\n",
    "|Mean|47.434|\n",
    "|Std|0.114|\n",
    "\n",
    "#### Part 1 - Parallel\n",
    "\n",
    "To convert this to parallel, I divided the reading and aligning into two separate steps. This created quite a bit of overhead that is overcome by the further parallelizations but slows down the serial version. I chose to do this as I couldn't figure out how to direct each thread to only one line of the input file. First the program reads through the input reads file and writes each read to an array. Then it splits into one thread for each read and each thread aligns its read, writing the output to an array where the index position corresponds to the line of the file where the read came from. I recorded the time again and observed a 2x speed up from this change alone. \n",
    "<center><b>Parallel Time</b></center>\n",
    "\n",
    "|Iteration|Time(s)|\n",
    "|---------|:------:|\n",
    "|1|23.545|\n",
    "|2|23.637|\n",
    "|3|23.509|\n",
    "|||\n",
    "|Mean|23.564|\n",
    "|Std|0.066|"
   ]
  },
  {
   "cell_type": "markdown",
   "metadata": {},
   "source": [
    "Initially, I had a critical section protecting the output array, but realized that, by having each thread access only its own reads' index postion, I could remove it. I ran it for 45 iterations and observed a decrease in time.\n",
    "\n",
    "<center><b>Parallel Time - No Critical </b></center>\n",
    "\n",
    "|Mean(s)|Std|\n",
    "|---------|:------:|\n",
    "|21.564|0.437|\n",
    "\n",
    "\n"
   ]
  },
  {
   "cell_type": "markdown",
   "metadata": {},
   "source": [
    "## Conclusion\n",
    "\n",
    "#### Future Directions\n",
    "\n",
    "I know that I can further increase the parallelization of ClipOn. If I had had more time, I would have written a third version of it where I include another section that breaks the reference genome into pieces to search them in parallel. This should, in theory, speed up this process significantly. Additionally, I would have liked to structure my input and output data to match real-world structures so that I could eventually test it on real data. \n",
    "\n",
    "#### Outcomes\n",
    "I was able to create a rudimentary alignment program and speed it up using OMP as we learned in class. Overall, I feel much more comfortable using C now. Being forced to learn about memory allocation was a very good lesson, though it was very frustrating in the moment. Additionally, I feel a lot more confident with parallel programming concepts now that I have been able to wrestle with them in a context and program I understand. Though  ClipOn is admittedly an inelegant version of a short read aligner, in the process of planning, making, and testing it I gained a deeper understanding of the underlying issues and important features of these tools."
   ]
  },
  {
   "cell_type": "markdown",
   "metadata": {},
   "source": [
    "# Honors Option: The Wave Equation"
   ]
  },
  {
   "cell_type": "markdown",
   "metadata": {},
   "source": [
    "## Introduction\n",
    "\n",
    "#### The Wave Equation\n",
    "\n",
    "The wave equation is a second-order partial differential equation tha allows us to model how waves move. This has applications in many fields, giving us visualizations of energy moving through a medium. The wave is split into a bunch of points and the velocity of each point is determined by its neighbors. \n",
    "\n",
    "#### Numba\n",
    "\n",
    "Numba is a python package that translates python to optimized machine code at run time. It also automatically runs loops using NumPy arrays on multiple cores, allowing us to use multiprocessing in python. "
   ]
  },
  {
   "cell_type": "markdown",
   "metadata": {},
   "source": [
    "## Methods\n",
    "\n",
    "I used my code from homework one which was already converted into functions for benchmarking purposes. We find the left and right velocity for each point using finite difference and again use finite difference to get a point's acceleration from them. The simplified equation is thus: \n",
    "$$\\ddot{y}[i] = \\frac{y[i+1]-2y[i]+y[i-1]}{dx^2}$$ \n",
    "\n",
    "I timed this code on my own machine due to permission issues with numba on the HPCC and got the following results after 10 iterations.\n",
    "\n",
    "|Serial(s)|Parallel(s)|\n",
    "|---------|:------:|\n",
    "|26.14|1.82|\n"
   ]
  },
  {
   "cell_type": "markdown",
   "metadata": {},
   "source": [
    "## Conclusions\n",
    "\n",
    "It is important for us to understand the tools we are using. Though the Numba time is significantly better, an issue with using numba is that it is unclear what timing benefits are conferred by parallelization and what are conferred by compiler optimization as it does both. However, we can see that the functions successfully model the wave equation and are sped up by using Numba.\n",
    "\n",
    "<img src=\"./my_awesome.gif\" width=50%>\n"
   ]
  },
  {
   "cell_type": "markdown",
   "metadata": {},
   "source": [
    "# Sources\n",
    "\n",
    "Langmead, B., & Salzberg, S. L. (2012). Fast gapped-read alignment with Bowtie 2. *Nature methods*, 9(4), 357-359.\n",
    "\n",
    "Langmead, B., Wilks, C., Antonescu, V., & Charles, R. (2019). Scaling read aligners to hundreds of threads on general-purpose processors. *Bioinformatics*, 35(3), 421-432.\n",
    "\n",
    "Wave equation. Brilliant Math &amp; Science Wiki. (n.d.). Retrieved April 30, 2023, from https://brilliant.org/wiki/wave-equation/\n",
    "\n",
    "Lam, S. K., Pitrou, A., &amp; Seibert, S. (2015). Numba: a LLVM-based Python JIT compiler. *Proceedings of the Second Workshop on the LLVM Compiler Infrastructure in HPC*, 1–6. https://doi.org/10.1145/2833157.2833162 "
   ]
  }
 ],
 "metadata": {
  "kernelspec": {
   "display_name": "Python 3",
   "language": "python",
   "name": "python3"
  },
  "language_info": {
   "codemirror_mode": {
    "name": "ipython",
    "version": 3
   },
   "file_extension": ".py",
   "mimetype": "text/x-python",
   "name": "python",
   "nbconvert_exporter": "python",
   "pygments_lexer": "ipython3",
   "version": "3.6.4"
  }
 },
 "nbformat": 4,
 "nbformat_minor": 2
}
