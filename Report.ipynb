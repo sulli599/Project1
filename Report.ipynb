{
 "cells": [
  {
   "cell_type": "code",
   "execution_count": 2,
   "metadata": {},
   "outputs": [],
   "source": [
    "#Abstract"
   ]
  },
  {
   "cell_type": "code",
   "execution_count": null,
   "metadata": {},
   "outputs": [],
   "source": [
    "#Objectives"
   ]
  },
  {
   "cell_type": "code",
   "execution_count": null,
   "metadata": {},
   "outputs": [],
   "source": [
    "#Part 1"
   ]
  },
  {
   "cell_type": "code",
   "execution_count": null,
   "metadata": {},
   "outputs": [],
   "source": [
    "#Part 2"
   ]
  },
  {
   "cell_type": "markdown",
   "metadata": {},
   "source": [
    "<center><b>Serial Time</b></center>\n",
    "\n",
    "|Iteration|Time(s)|\n",
    "|---------|:------:|\n",
    "|1|47.557|\n",
    "|2|47.331|\n",
    "|3|47.416|\n",
    "|||\n",
    "|Mean|47.434|\n",
    "|Std|0.114|\n",
    "\n",
    "\n",
    "<center><b>Parallel Time</b></center>\n",
    "\n",
    "|Iteration|Time(s)|\n",
    "|---------|:------:|\n",
    "|1|23.545|\n",
    "|2|23.637|\n",
    "|3|23.509|\n",
    "|||\n",
    "|Mean|23.564|\n",
    "|Std|0.066|\n",
    "\n",
    "<center>Performed timing for at least 3 iterations and until a standard deviation less than 1% of the mean was achieved </center>"
   ]
  },
  {
   "cell_type": "code",
   "execution_count": null,
   "metadata": {},
   "outputs": [],
   "source": []
  }
 ],
 "metadata": {
  "kernelspec": {
   "display_name": "Python 3",
   "language": "python",
   "name": "python3"
  },
  "language_info": {
   "codemirror_mode": {
    "name": "ipython",
    "version": 3
   },
   "file_extension": ".py",
   "mimetype": "text/x-python",
   "name": "python",
   "nbconvert_exporter": "python",
   "pygments_lexer": "ipython3",
   "version": "3.6.4"
  }
 },
 "nbformat": 4,
 "nbformat_minor": 2
}
