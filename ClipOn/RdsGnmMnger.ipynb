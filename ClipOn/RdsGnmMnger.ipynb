{
 "cells": [
  {
   "cell_type": "code",
   "execution_count": 43,
   "metadata": {},
   "outputs": [],
   "source": [
    "#Generating Reference Genome. DON'T RUN THESE AGAIN"
   ]
  },
  {
   "cell_type": "code",
   "execution_count": 132,
   "metadata": {},
   "outputs": [],
   "source": [
    "import pandas as pd\n",
    "import random as rd\n",
    "rd.seed('CMSE401')"
   ]
  },
  {
   "cell_type": "code",
   "execution_count": 86,
   "metadata": {},
   "outputs": [],
   "source": [
    "pi = pd.read_csv('pi.txt', header=None)"
   ]
  },
  {
   "cell_type": "code",
   "execution_count": 87,
   "metadata": {},
   "outputs": [],
   "source": [
    "pi = list(pi[0])"
   ]
  },
  {
   "cell_type": "code",
   "execution_count": 88,
   "metadata": {},
   "outputs": [],
   "source": [
    "pi = list(pi[0])"
   ]
  },
  {
   "cell_type": "code",
   "execution_count": 92,
   "metadata": {},
   "outputs": [],
   "source": [
    "for i in range(0, len(pi)):\n",
    "    pi[i] = int(pi[i])"
   ]
  },
  {
   "cell_type": "code",
   "execution_count": 121,
   "metadata": {},
   "outputs": [],
   "source": [
    "for i in range(0, len(pi)):\n",
    "    if pi[i] // 3 == 3:\n",
    "        pi[i] = \"A\"\n",
    "    elif pi[i] // 3 == 2:\n",
    "        pi[i] = \"G\"\n",
    "    elif pi[i] // 3 == 1:\n",
    "        pi[i] = \"C\"\n",
    "    else:\n",
    "        pi[i] = \"T\""
   ]
  },
  {
   "cell_type": "code",
   "execution_count": 123,
   "metadata": {},
   "outputs": [],
   "source": [
    "pi = ''.join(pi)"
   ]
  },
  {
   "cell_type": "code",
   "execution_count": 125,
   "metadata": {},
   "outputs": [],
   "source": [
    "with open(\"pi.txt\", \"w\") as text_file:\n",
    "    text_file.write(pi) "
   ]
  },
  {
   "cell_type": "code",
   "execution_count": 126,
   "metadata": {},
   "outputs": [],
   "source": [
    "#Generating Reads\n",
    "pi = pd.read_csv('pi.txt', header=None)\n",
    "pi = list(pi[0])"
   ]
  },
  {
   "cell_type": "code",
   "execution_count": 174,
   "metadata": {},
   "outputs": [],
   "source": [
    "startaddress = []\n",
    "stopaddress = []\n",
    "num_reads = 10;\n",
    "for i in range(0,num_reads):\n",
    "    if i % 2 == 0:\n",
    "        startaddress.append(rd.randint(0, len(pi[0])))\n",
    "    else:\n",
    "        stopaddress.append(rd.randint(startaddress[-1], (startaddress[-1] + 1000)))"
   ]
  },
  {
   "cell_type": "code",
   "execution_count": 175,
   "metadata": {},
   "outputs": [],
   "source": [
    "reads = []\n",
    "for i in range(0, len(stopaddress)):\n",
    "    reads.append(pi[0][startaddress[i]:stopaddress[i]])"
   ]
  },
  {
   "cell_type": "code",
   "execution_count": 179,
   "metadata": {},
   "outputs": [],
   "source": [
    "with open(\"reads.txt\", \"w\") as text_file:\n",
    "    text_file.write(str(reads)) "
   ]
  }
 ],
 "metadata": {
  "kernelspec": {
   "display_name": "Python 3",
   "language": "python",
   "name": "python3"
  },
  "language_info": {
   "codemirror_mode": {
    "name": "ipython",
    "version": 3
   },
   "file_extension": ".py",
   "mimetype": "text/x-python",
   "name": "python",
   "nbconvert_exporter": "python",
   "pygments_lexer": "ipython3",
   "version": "3.6.4"
  }
 },
 "nbformat": 4,
 "nbformat_minor": 2
}
