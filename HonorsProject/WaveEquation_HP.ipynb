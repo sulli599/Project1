{
 "cells": [
  {
   "cell_type": "code",
   "execution_count": 3,
   "metadata": {},
   "outputs": [],
   "source": [
    "import glob\n",
    "from PIL import Image\n",
    "import numpy as np\n",
    "import math\n",
    "import matplotlib.pyplot as plt\n",
    "from matplotlib import animation as anim\n",
    "import time\n",
    "import os\n",
    "#from numba import jit\n",
    "path_of_the_directory='/mnt/ufs18/home-228/sulli599/Desktop/sulli599_project/HonorsProject'"
   ]
  },
  {
   "cell_type": "code",
   "execution_count": 4,
   "metadata": {},
   "outputs": [],
   "source": [
    "def make_gif(path_of_the_directory):\n",
    "    frames_list = glob.glob(f\"{path_of_the_directory}/*.png\")\n",
    "    frames_list.sort()\n",
    "    frames = [Image.open(image) for image in frames_list]\n",
    "    frame_one = frames[0]\n",
    "    frame_one.save(\"my_awesome.gif\", format=\"GIF\", append_images=frames,\n",
    "               save_all=True, duration=0.01, loop=0)\n",
    "    \n",
    "def wave():\n",
    "    f = 0\n",
    "    xmin = 0\n",
    "    xmax = 10\n",
    "    nx = 512\n",
    "    dx = (xmax - xmin) / nx\n",
    "    x = np.linspace(xmin, xmax, nx)\n",
    "\n",
    "    tmin = 0\n",
    "    tmax = 10\n",
    "    nt = 200\n",
    "    dt = (tmax - tmin) / nt\n",
    "    times = np.linspace(tmin, tmax, nt)\n",
    "\n",
    "    y = np.exp(-(x-5)**2)\n",
    "    yvel = np.zeros(nx)\n",
    "    yaccel = np.zeros(nx)\n",
    "    gamma = 1\n",
    "\n",
    "    for t in times:\n",
    "        yaccel[0]=0\n",
    "        yaccel[nx-1]=0\n",
    "        for i in range(1,nx-1):\n",
    "            yaccel[i]=gamma*((y[i+1]+y[i-1]-2*y[i])/(dx**2))\n",
    "        for j in range(0, nx):\n",
    "            y[j] = y[j] + yvel[j]*dt\n",
    "            yvel[j] = yvel[j] + yaccel[j]*dt\n",
    "    \n",
    "        fname = str(f)\n",
    "        plt.plot(x,y,color=\"black\")\n",
    "        plt.savefig(fname.zfill(3) +'.png')\n",
    "        plt.close()\n",
    "        f+=1 \n",
    "    return \"0\"\n",
    "\n",
    "#@jit(nopython=True)\n",
    "def parallel_wave():\n",
    "    f = 0\n",
    "    xmin = 0\n",
    "    xmax = 10\n",
    "    nx = 512\n",
    "    dx = (xmax - xmin) / nx\n",
    "    x = np.linspace(xmin, xmax, nx)\n",
    "\n",
    "    tmin = 0\n",
    "    tmax = 10\n",
    "    nt = 1000\n",
    "    dt = (tmax - tmin) / nt\n",
    "    times = np.linspace(tmin, tmax, nt)\n",
    "\n",
    "    y = np.exp(-(x-5)**2)\n",
    "    yvel = np.zeros(nx)\n",
    "    yaccel = np.zeros(nx)\n",
    "    gamma = 1\n",
    "\n",
    "    for t in times:\n",
    "        yaccel[0]=0\n",
    "        yaccel[nx-1]=0\n",
    "        for i in range(1,nx-1):\n",
    "            yaccel[i]=gamma*((y[i+1]+y[i-1]-2*y[i])/(dx**2))\n",
    "        for j in range(0, nx):\n",
    "            y[j] = y[j] + yvel[j]*dt\n",
    "            yvel[j] = yvel[j] + yaccel[j]*dt\n",
    "        '''\n",
    "        #Only relevant for visualization\n",
    "        fname = str(f)\n",
    "        plt.plot(x,y,color=\"black\")\n",
    "        plt.savefig(fname.zfill(3) +'.png')\n",
    "        plt.close()\n",
    "        f+=1\n",
    "        '''  \n",
    "    return \"0\""
   ]
  },
  {
   "cell_type": "code",
   "execution_count": null,
   "metadata": {},
   "outputs": [],
   "source": [
    "#Timed on my own machine as I don't have the authorization to use numba on the HPCC"
   ]
  },
  {
   "cell_type": "code",
   "execution_count": null,
   "metadata": {},
   "outputs": [],
   "source": [
    "#Timing Code - Serial\n",
    "T = []\n",
    "n = 100\n",
    "for i in range (0, n):\n",
    "    start = time.time()\n",
    "    wave()\n",
    "    end = time.time()\n",
    "    T.append(end - start)\n",
    "\n",
    "print(f\"Total time: {sum(T):.2f} seconds\")\n",
    "print(f\"Average time: {sum(T)/n:.2f} seconds\")"
   ]
  },
  {
   "cell_type": "code",
   "execution_count": null,
   "metadata": {},
   "outputs": [],
   "source": [
    "Total time: 230.66 seconds\n",
    "Average time: 2.31 seconds"
   ]
  },
  {
   "cell_type": "code",
   "execution_count": null,
   "metadata": {},
   "outputs": [],
   "source": [
    "#Timing Code - Parallel\n",
    "T = []\n",
    "n = 100\n",
    "for i in range (0, n):\n",
    "    start = time.time()\n",
    "    parallel_wave()\n",
    "    end = time.time()\n",
    "    T.append(end - start)\n",
    "\n",
    "print(f\"Total time: {sum(T):.2f} seconds\")\n",
    "print(f\"Average time: {sum(T)/n:.2f} seconds\")"
   ]
  },
  {
   "cell_type": "code",
   "execution_count": null,
   "metadata": {},
   "outputs": [],
   "source": [
    "Total time: 0.52 seconds\n",
    "Average time: 0.01 seconds"
   ]
  },
  {
   "cell_type": "code",
   "execution_count": 5,
   "metadata": {},
   "outputs": [],
   "source": [
    "#make gift using nt=200\n",
    "wave()\n",
    "make_gif(path_of_the_directory)"
   ]
  }
 ],
 "metadata": {
  "kernelspec": {
   "display_name": "Python 3",
   "language": "python",
   "name": "python3"
  },
  "language_info": {
   "codemirror_mode": {
    "name": "ipython",
    "version": 3
   },
   "file_extension": ".py",
   "mimetype": "text/x-python",
   "name": "python",
   "nbconvert_exporter": "python",
   "pygments_lexer": "ipython3",
   "version": "3.6.4"
  }
 },
 "nbformat": 4,
 "nbformat_minor": 2
}
